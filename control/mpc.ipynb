{
 "cells": [
  {
   "cell_type": "code",
   "execution_count": 9,
   "metadata": {},
   "outputs": [],
   "source": [
    "import numpy as np\n",
    "import matplotlib\n",
    "matplotlib.rcParams.update({'font.size': 22})\n",
    "import matplotlib.pyplot as plt"
   ]
  },
  {
   "cell_type": "code",
   "execution_count": 17,
   "metadata": {},
   "outputs": [
    {
     "name": "stdout",
     "output_type": "stream",
     "text": [
      "(2, 2)\n",
      "(2, 1)\n",
      "(2, 2)\n",
      "(1, 1)\n",
      "(2, 2)\n"
     ]
    }
   ],
   "source": [
    "A = np.array([\n",
    "    [1.0,1.0], [0, 1.0]\n",
    "])\n",
    "\n",
    "B = np.array([[0], [1]])\n",
    "\n",
    "R = np.array([[10]])\n",
    "\n",
    "Q = np.array([\n",
    "    [1,0], [0, 0]\n",
    "])\n",
    "\n",
    "P = np.array([\n",
    "    [1, 0], [0, 1]\n",
    "])\n",
    "\n",
    "x0 = np.array([-1,0])\n",
    "\n",
    "print(A.shape)\n",
    "print(B.shape)\n",
    "print(Q.shape)\n",
    "print(R.shape)\n",
    "print(P.shape)"
   ]
  },
  {
   "cell_type": "code",
   "execution_count": 18,
   "metadata": {},
   "outputs": [],
   "source": [
    "def mat_diag(C, N=10):\n",
    "    d  = C.shape[0]\n",
    "    n  = d*N\n",
    "    D  = np.zeros((n,n))\n",
    "    for i in range(0,n-d+1,d):\n",
    "        D[i:i+d,i:i+d] = C\n",
    "    \n",
    "    return D\n",
    "\n",
    "def assemble_q(Q, P, N=10):\n",
    "    Q_big = mat_diag(Q,N+1)\n",
    "    d = Q.shape[0]\n",
    "    Q_big[-d:,-d:] = P\n",
    "    return Q_big\n",
    "    \n",
    "def assemble_r(R, N=10):\n",
    "    return mat_diag(R,N)\n",
    "\n",
    "def assemble_sx(A, B, N=10):\n",
    "    Sx = np.concatenate([np.linalg.matrix_power(A,i) for i in range(N+1)], axis=0)\n",
    "    return Sx\n",
    "    \n",
    "def assemble_su(A, B, N=10):\n",
    "    b_rows = B.shape[0]\n",
    "    b_cols = B.shape[1]\n",
    "    \n",
    "    su_rows = (N+1)*b_rows\n",
    "    su_cols = N*b_cols\n",
    "    \n",
    "    Su = np.zeros( (su_rows, su_cols) )\n",
    "    for i in range(N+1):\n",
    "        for j in range(i):\n",
    "             r = i*b_rows\n",
    "             c = j*b_cols\n",
    "             Su[r:r+b_rows,c:c+b_cols] = np.linalg.matrix_power(A,i-j-1).dot(B)\n",
    "\n",
    "    return Su"
   ]
  },
  {
   "cell_type": "code",
   "execution_count": 19,
   "metadata": {},
   "outputs": [
    {
     "name": "stdout",
     "output_type": "stream",
     "text": [
      "Sx\n",
      "[[1. 0.]\n",
      " [0. 1.]\n",
      " [1. 1.]\n",
      " [0. 1.]\n",
      " [1. 2.]\n",
      " [0. 1.]\n",
      " [1. 3.]\n",
      " [0. 1.]\n",
      " [1. 4.]\n",
      " [0. 1.]]\n",
      "Su\n",
      "[[0. 0. 0. 0.]\n",
      " [0. 0. 0. 0.]\n",
      " [0. 0. 0. 0.]\n",
      " [1. 0. 0. 0.]\n",
      " [1. 0. 0. 0.]\n",
      " [1. 1. 0. 0.]\n",
      " [2. 1. 0. 0.]\n",
      " [1. 1. 1. 0.]\n",
      " [3. 2. 1. 0.]\n",
      " [1. 1. 1. 1.]]\n",
      "Q\n",
      "[[1. 0. 0. 0. 0. 0. 0. 0. 0. 0.]\n",
      " [0. 0. 0. 0. 0. 0. 0. 0. 0. 0.]\n",
      " [0. 0. 1. 0. 0. 0. 0. 0. 0. 0.]\n",
      " [0. 0. 0. 0. 0. 0. 0. 0. 0. 0.]\n",
      " [0. 0. 0. 0. 1. 0. 0. 0. 0. 0.]\n",
      " [0. 0. 0. 0. 0. 0. 0. 0. 0. 0.]\n",
      " [0. 0. 0. 0. 0. 0. 1. 0. 0. 0.]\n",
      " [0. 0. 0. 0. 0. 0. 0. 0. 0. 0.]\n",
      " [0. 0. 0. 0. 0. 0. 0. 0. 1. 0.]\n",
      " [0. 0. 0. 0. 0. 0. 0. 0. 0. 1.]]\n",
      "R\n",
      "[[10.  0.  0.  0.]\n",
      " [ 0. 10.  0.  0.]\n",
      " [ 0.  0. 10.  0.]\n",
      " [ 0.  0.  0. 10.]]\n"
     ]
    }
   ],
   "source": [
    "N = 4\n",
    "Sx    = assemble_sx(A, B, N)\n",
    "Su    = assemble_su(A, B, N)\n",
    "Q_big = assemble_q(Q,P,N)\n",
    "R_big = assemble_r(R,N)\n",
    "\n",
    "print(\"Sx\")\n",
    "print(Sx)\n",
    "print(\"Su\")\n",
    "print(Su)\n",
    "print(\"Q\")\n",
    "print(Q_big)\n",
    "print(\"R\")\n",
    "print(R_big)"
   ]
  },
  {
   "cell_type": "code",
   "execution_count": 20,
   "metadata": {},
   "outputs": [
    {
     "name": "stdout",
     "output_type": "stream",
     "text": [
      "[[25.  9.  4.  1.]\n",
      " [ 9. 16.  3.  1.]\n",
      " [ 4.  3. 12.  1.]\n",
      " [ 1.  1.  1. 11.]]\n",
      "[[ -6. -21.]\n",
      " [ -3. -12.]\n",
      " [ -1.  -5.]\n",
      " [ -0.  -1.]]\n",
      "[6. 3. 1. 0.]\n",
      "[ 0.21731052  0.06758535 -0.00387087 -0.02554773]\n"
     ]
    }
   ],
   "source": [
    "H = Su.T.dot(Q_big).dot(Su)+R_big\n",
    "F = -Su.T.dot(Q_big).dot(Sx)\n",
    "print(H)\n",
    "print(F)\n",
    "\n",
    "z = F.dot(x0)\n",
    "print(z)\n",
    "\n",
    "u_star = np.linalg.solve(H,z)\n",
    "print(u_star)"
   ]
  },
  {
   "cell_type": "code",
   "execution_count": 21,
   "metadata": {},
   "outputs": [],
   "source": [
    "N_steps = 10\n",
    "d = x0.shape[0]\n",
    "du = B.shape[1]\n",
    "\n",
    "X = np.zeros((d, N_steps))\n",
    "X[:,0] = x0\n",
    "U = np.zeros((du, N_steps-1))\n",
    "\n",
    "for i in range(N_steps-1):\n",
    "    z = F.dot(X[:,i])\n",
    "    U[:,i] = np.linalg.solve(H,z)[:du]\n",
    "    X[:,i+1] = A.dot(X[:,i]) + B.dot(U[:,i])"
   ]
  },
  {
   "cell_type": "code",
   "execution_count": 22,
   "metadata": {},
   "outputs": [
    {
     "name": "stdout",
     "output_type": "stream",
     "text": [
      "[[-1.         -1.         -0.78268948 -0.50095015 -0.24733267 -0.06327774\n",
      "   0.04503935  0.09090441  0.09471508  0.07609039]\n",
      " [ 0.          0.21731052  0.28173932  0.25361749  0.18405493  0.10831709\n",
      "   0.04586506  0.00381067 -0.01862469 -0.02610448]]\n",
      "[[ 0.21731052  0.0644288  -0.02812184 -0.06956256 -0.07573784 -0.06245203\n",
      "  -0.04205439 -0.02243536 -0.00747979]]\n"
     ]
    }
   ],
   "source": [
    "print(X)\n",
    "print(U)"
   ]
  },
  {
   "cell_type": "code",
   "execution_count": 23,
   "metadata": {},
   "outputs": [
    {
     "data": {
      "image/png": "[encoded data removed]",
      "text/plain": [
       "<Figure size 504x504 with 1 Axes>"
      ]
     },
     "metadata": {
      "needs_background": "light"
     },
     "output_type": "display_data"
    },
    {
     "data": {
      "image/png": "[encoded data removed]",
      "text/plain": [
       "<Figure size 504x504 with 1 Axes>"
      ]
     },
     "metadata": {
      "needs_background": "light"
     },
     "output_type": "display_data"
    }
   ],
   "source": [
    "plt.figure(figsize=(7,7))\n",
    "plt.plot(X[0,:], color='b',label='x1')\n",
    "plt.plot(X[1,:], color='r',label='x2')\n",
    "plt.legend()\n",
    "plt.grid(True)\n",
    "plt.xlabel('t')\n",
    "plt.ylabel('x(t)')\n",
    "plt.ylim(-1,1)\n",
    "plt.savefig('mpc_state.png', dpi=300)\n",
    "plt.show()\n",
    "\n",
    "plt.figure(figsize=(7,7))\n",
    "plt.plot(U[0,:], color='g',label='u')\n",
    "plt.legend()\n",
    "plt.grid(True)\n",
    "plt.xlabel('t')\n",
    "plt.ylabel('u(t)')\n",
    "plt.ylim(-0.5,0.5)\n",
    "plt.savefig('mpc_control.png', dpi=300)\n",
    "plt.show()"
   ]
  },
  {
   "cell_type": "code",
   "execution_count": null,
   "metadata": {},
   "outputs": [],
   "source": []
  },
  {
   "cell_type": "code",
   "execution_count": null,
   "metadata": {},
   "outputs": [],
   "source": []
  },
  {
   "cell_type": "code",
   "execution_count": null,
   "metadata": {},
   "outputs": [],
   "source": []
  }
 ],
 "metadata": {
  "kernelspec": {
   "display_name": "Python 3",
   "language": "python",
   "name": "python3"
  },
  "language_info": {
   "codemirror_mode": {
    "name": "ipython",
    "version": 3
   },
   "file_extension": ".py",
   "mimetype": "text/x-python",
   "name": "python",
   "nbconvert_exporter": "python",
   "pygments_lexer": "ipython3",
   "version": "3.7.1"
  }
 },
 "nbformat": 4,
 "nbformat_minor": 2
}
